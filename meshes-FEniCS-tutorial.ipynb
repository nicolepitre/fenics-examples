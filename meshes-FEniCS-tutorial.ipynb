{
 "cells": [
  {
   "cell_type": "markdown",
   "metadata": {},
   "source": [
    "# Tutorial: Meshes in FEniCS\n",
    "### Written by Nicole Pitre for the Poulin Research Group\n",
    "#### June 2016\n",
    "\n",
    "This tutorial describes how to:\n",
    "- Create a Gmsh script file (.geo file)\n",
    "- Generate a finite element mesh from a .geo file\n",
    "- Convert a mesh into XML format using dolfin-convert\n",
    "- Mark subdomains of a mesh\n",
    "- Include a mesh [and its subdomains] in a FEniCS demo\n",
    "\n",
    "## Creating a Gmsh script file\n",
    "\n",
    "The first step in generating a finite element mesh is to write a Gmsh script file that specifies the desired geometry. For more information on writing Gmsh script files including a list of all available geometry commands, see the Gmsh Reference Manual: http://gmsh.info/doc/texinfo/gmsh.html. \n",
    "\n",
    "We will start by looking at an example of a Gmsh script file called cape.geo. We will then open the file in Gmsh to see the physical representation of the code.\n"
   ]
  },
  {
   "cell_type": "raw",
   "metadata": {},
   "source": [
    "   /* \n",
    "    Cape Geometry File\n",
    "   */\n",
    "\n",
    "    gridsize = 0.05; // prescribed mesh element size\n",
    "    \n",
    "    Lx = 1.0; // length measured along bottom edge\n",
    "    Ly = 1.0;   // height\n",
    "    \n",
    "    Point(1) = {0, 0, 0, gridsize};\n",
    "    Point(2) = {0, 1, 0, gridsize};\n",
    "    Point(3) = {1, 1, 0, gridsize};\n",
    "    Point(4) = {1, 0, 0, gridsize};\n",
    " \n",
    "    Line(1) = {3, 4};\n",
    "    Line(2) = {4, 1};\n",
    "    Line(3) = {1, 2};\n",
    "\n",
    "    x0 = 0.5;   // centre of the Gaussian\n",
    "    W  = 0.2; // Width of the cape\n",
    "    H  = 0.1; // Height of the cape\n",
    "    Np = 51;  // Number of points across Northern Wall\n",
    "    \n",
    "    pList[0] = 2; // First point label (top-left point of the inlet region)\n",
    "    nPoints = Np; // # of discretization points\n",
    "    For i In {1 : nPoints}\n",
    "      x = Lx*i/(nPoints + 1);\n",
    "      pList[i] = newp;\n",
    "      Point(pList[i]) = {x,\n",
    "                    ( Ly - H*Exp((-((x-x0)/W)^2))), \n",
    "                    0, gridsize};\n",
    "    EndFor\n",
    "    pList[nPoints+1] = 3; // Last point label (top-right point of the outlet region)\n",
    " \n",
    "    Spline(newl) = pList[]; // Interpolate the points with a spline\n",
    " \n",
    "    Line Loop(5) = {1, 2, 3, 4};\n",
    "    Plane Surface(6) = {5};\n"
   ]
  },
  {
   "cell_type": "markdown",
   "metadata": {},
   "source": [
    "How will this code look as a geometric entity in Gmsh? We can open cape.geo in Gmsh to see how it looks. The result is shown below.\n",
    "<img src=\"cape.jpg\">"
   ]
  },
  {
   "cell_type": "markdown",
   "metadata": {},
   "source": [
    "## Generating a finite element mesh from a Gmsh script file"
   ]
  },
  {
   "cell_type": "markdown",
   "metadata": {},
   "source": [
    "We now want to generate a mesh file (.msh is the file extension) from our .geo file. \n",
    "In order to convert the cape.geo file into a mesh file, there are two options:\n",
    "1. Use the Gmsh GUI. Open cape.geo in Gmsh and click Mesh --> 2D. Then click File --> Save Mesh. The mesh file, cape.msh, will appear in the same directory as the cape.geo file.\n",
    "2. Use the following terminal command:"
   ]
  },
  {
   "cell_type": "raw",
   "metadata": {},
   "source": [
    "gmsh -2 cape.geo -o cape.msh"
   ]
  },
  {
   "cell_type": "markdown",
   "metadata": {},
   "source": [
    "Note: If you are using Mac OS X, you may need to run the following Terminal command in order to run gmsh commands from the Terminal: "
   ]
  },
  {
   "cell_type": "raw",
   "metadata": {},
   "source": [
    "ln -s /Applications/Gmsh.app/Contents/MacOS/gmsh /usr/local/bin/gmsh"
   ]
  },
  {
   "cell_type": "markdown",
   "metadata": {},
   "source": [
    "The finite element mesh, cape.msh, is shown below.\n",
    "<img src=\"cape_mesh.jpg\">\n"
   ]
  },
  {
   "cell_type": "markdown",
   "metadata": {},
   "source": [
    "## Converting a mesh into XML format using dolfin-convert"
   ]
  },
  {
   "cell_type": "markdown",
   "metadata": {},
   "source": [
    "In order to import our cape mesh into FEniCS, we first need to convert it to XML format. The dolfin-convert Python script automatically converts a file from Gmsh format (.msh) to XML format, as shown in the cell below. The first argument is the input file and the second argument is the name of the output XML file."
   ]
  },
  {
   "cell_type": "code",
   "execution_count": 1,
   "metadata": {
    "collapsed": false
   },
   "outputs": [
    {
     "name": "stdout",
     "output_type": "stream",
     "text": [
      "Converting from Gmsh format (.msh, .gmsh) to DOLFIN XML format\n",
      "Hello\n",
      "Expecting 3306 vertices\n",
      "Found all vertices\n",
      "Expecting 6408 cells\n",
      "Found all cells\n",
      "Conversion done\n"
     ]
    }
   ],
   "source": [
    "%run dolfin-convert cape.msh cape.xml"
   ]
  },
  {
   "cell_type": "markdown",
   "metadata": {},
   "source": [
    "The source code for dolfin-convert can be found at https://people.sc.fsu.edu/~jburkardt/py_src/dolfin-convert/dolfin-convert.py. To save the script to your machine, simply right click on the link and click \"Save Link As...\" and then select Python file. \n",
    "\n",
    "Further information about the dolfin-convert script can be found at https://people.sc.fsu.edu/~jburkardt/py_src/dolfin-convert/dolfin-convert.html\n"
   ]
  },
  {
   "cell_type": "markdown",
   "metadata": {},
   "source": [
    "## Marking subdomains of a mesh"
   ]
  },
  {
   "cell_type": "markdown",
   "metadata": {},
   "source": [
    "Before we import our XML-formatted mesh into FEniCS, we may want to write a Python script to mark subdomains of the mesh. Subdomains are necessary if we want to impose different boundary conditions on certain parts of the mesh boundary. The Python script shown below, cape_subdomains.py, marks five subdomains (top, bottom, right, left, interior) in the cape mesh. The output of the script is saved to an XML file called cape_subdomains.xml. The output is also saved to a VTK file that can be opened in visualization software (e.g. VisIt and ParaView). Note that only the XML file will be used in the final step of the tutorial.\n",
    "\n",
    "Refer to documentation on the FEniCS website for help with the functions below. In particular, the following example is helpful: http://fenicsproject.org/documentation/dolfin/dev/python/demo/documented/subdomains/python/documentation.html"
   ]
  },
  {
   "cell_type": "code",
   "execution_count": 2,
   "metadata": {
    "collapsed": false
   },
   "outputs": [
    {
     "ename": "ImportError",
     "evalue": "No module named dolfin",
     "output_type": "error",
     "traceback": [
      "\u001b[0;31m---------------------------------------------------------------------------\u001b[0m",
      "\u001b[0;31mImportError\u001b[0m                               Traceback (most recent call last)",
      "\u001b[0;32m<ipython-input-2-4a799da4d9c7>\u001b[0m in \u001b[0;36m<module>\u001b[0;34m()\u001b[0m\n\u001b[1;32m      1\u001b[0m \u001b[0;31m# %load cape_subdomains.py\u001b[0m\u001b[0;34m\u001b[0m\u001b[0;34m\u001b[0m\u001b[0m\n\u001b[0;32m----> 2\u001b[0;31m \u001b[0;32mfrom\u001b[0m \u001b[0mdolfin\u001b[0m \u001b[0;32mimport\u001b[0m \u001b[0;34m*\u001b[0m\u001b[0;34m\u001b[0m\u001b[0m\n\u001b[0m\u001b[1;32m      3\u001b[0m \u001b[0;34m\u001b[0m\u001b[0m\n\u001b[1;32m      4\u001b[0m \u001b[0mset_log_level\u001b[0m\u001b[0;34m(\u001b[0m\u001b[0;36m1\u001b[0m\u001b[0;34m)\u001b[0m\u001b[0;34m\u001b[0m\u001b[0m\n\u001b[1;32m      5\u001b[0m \u001b[0;34m\u001b[0m\u001b[0m\n",
      "\u001b[0;31mImportError\u001b[0m: No module named dolfin"
     ]
    }
   ],
   "source": [
    "# %load cape_subdomains.py\n",
    "from dolfin import *\n",
    "\n",
    "set_log_level(1)\n",
    "\n",
    "# Sub domain for top (mark whole boundary; bottom, right, left will overwrite)\n",
    "class Top(SubDomain):\n",
    "    def inside(self, x, on_boundary):\n",
    "        return on_boundary\n",
    "\n",
    "# Sub domain for bottom       \n",
    "class Bottom(SubDomain):\n",
    "    def inside(self, x, on_boundary):\n",
    "        return x[1] < DOLFIN_EPS and on_boundary        \n",
    "\n",
    "# Sub domain for right wall\n",
    "class Right(SubDomain):\n",
    "    def inside(self, x, on_boundary):\n",
    "        return x[0] > 1.0 - DOLFIN_EPS and on_boundary\n",
    "\n",
    "# Sub domain for left wall\n",
    "class Left(SubDomain):\n",
    "    def inside(self, x, on_boundary):\n",
    "        return x[0] < DOLFIN_EPS and on_boundary\n",
    "\n",
    "# Read mesh\n",
    "mesh = Mesh(\"cape.xml\")\n",
    "\n",
    "# Create mesh functions over the cell facets\n",
    "sub_domains = MeshFunction(\"size_t\", mesh, mesh.topology().dim() - 1)\n",
    "\n",
    "# Mark all facets as sub domain 4\n",
    "sub_domains.set_all(4)\n",
    "\n",
    "# Mark top as sub domain 0\n",
    "top = Top()\n",
    "top.mark(sub_domains, 0)\n",
    "\n",
    "# Mark bottom as sub domain 1\n",
    "bottom = Bottom()\n",
    "bottom.mark(sub_domains, 1)\n",
    "\n",
    "# Mark right wall as sub domain 2\n",
    "right = Right()\n",
    "right.mark(sub_domains, 2)\n",
    "\n",
    "# Mark left wall as sub domain 3\n",
    "left = Left()\n",
    "left.mark(sub_domains, 3)\n",
    "\n",
    "# Save sub domains to XML file\n",
    "file = File(\"cape_subdomains.xml\")\n",
    "file << sub_domains\n",
    "\n",
    "# Save sub domains to VTK files for visualization\n",
    "file = File(\"cape_subdomains.pvd\")\n",
    "file << sub_domains\n"
   ]
  },
  {
   "cell_type": "markdown",
   "metadata": {},
   "source": [
    "## Including a mesh [and its subdomains] in a FEniCS demo"
   ]
  },
  {
   "cell_type": "markdown",
   "metadata": {},
   "source": [
    "Now that we have the mesh and subdomain markers in XML format, we can add these files into a FEniCS demo. The following FEniCS code solves the Stokes equations using linear elements enriched with a bubble for the velocity and linear elements for the pressure (Mini elements). The output of the demo includes the norm of the velocity coefficient vector, the norm of the pressure coefficient vector, a VTK file for the velocity and a VTK file for the pressure. The VTK files can be viewed in VisIt or ParaView."
   ]
  },
  {
   "cell_type": "code",
   "execution_count": null,
   "metadata": {
    "collapsed": false
   },
   "outputs": [],
   "source": [
    "# %load cape_stokes-mini.py\n",
    "\"\"\"This demo solves the Stokes equations, using linear elements\n",
    "enriched with a bubble for the velocity and linear elements for the\n",
    "pressure (Mini elements).\"\"\"\n",
    "\n",
    "# Copyright (C) 2007 Kristian B. Oelgaard\n",
    "#\n",
    "# This file is part of DOLFIN.\n",
    "#\n",
    "# DOLFIN is free software: you can redistribute it and/or modify\n",
    "# it under the terms of the GNU Lesser General Public License as published by\n",
    "# the Free Software Foundation, either version 3 of the License, or\n",
    "# (at your option) any later version.\n",
    "#\n",
    "# DOLFIN is distributed in the hope that it will be useful,\n",
    "# but WITHOUT ANY WARRANTY; without even the implied warranty of\n",
    "# MERCHANTABILITY or FITNESS FOR A PARTICULAR PURPOSE. See the\n",
    "# GNU Lesser General Public License for more details.\n",
    "#\n",
    "# You should have received a copy of the GNU Lesser General Public License\n",
    "# along with DOLFIN. If not, see <http://www.gnu.org/licenses/>.\n",
    "#\n",
    "# Modified by Anders Logg, 2008-2009.\n",
    "#\n",
    "# First added:  2007-11-16\n",
    "# Last changed: 2010-04-01\n",
    "# Begin demo\n",
    "\n",
    "from __future__ import print_function\n",
    "from dolfin import *\n",
    "\n",
    "# Load mesh and subdomains\n",
    "mesh = Mesh(\"cape.xml\")\n",
    "sub_domains = MeshFunction(\"size_t\", mesh, \"cape_subdomains.xml\")\n",
    "\n",
    "# Define function spaces\n",
    "P1 = VectorFunctionSpace(mesh, \"Lagrange\", 1)\n",
    "B  = VectorFunctionSpace(mesh, \"Bubble\", 3)\n",
    "Q  = FunctionSpace(mesh, \"CG\",  1)\n",
    "V = P1 + B\n",
    "Mini = V*Q\n",
    "\n",
    "# Top boundary condition for velocity\n",
    "# NOTE: Projection here is inefficient workaround of issue #489, FFC issue #69\n",
    "top = project(Constant((0, 0)), V)\n",
    "bc0 = DirichletBC(Mini.sub(0), top, sub_domains, 0)\n",
    "\n",
    "# Right boundary condition for velocity\n",
    "# NOTE: Projection here is inefficient workaround of issue #489, FFC issue #69\n",
    "right = project(Expression((\"-sin(x[1]*pi)\", \"0.0\")), V)\n",
    "bc1 = DirichletBC(Mini.sub(0), right, sub_domains, 2)\n",
    "\n",
    "# Collect boundary conditions\n",
    "bcs = [bc0, bc1]\n",
    "\n",
    "# Define variational problem\n",
    "(u, p) = TrialFunctions(Mini)\n",
    "(v, q) = TestFunctions(Mini)\n",
    "f = Constant((0, 0))\n",
    "a = (inner(grad(u), grad(v)) - div(v)*p + q*div(u))*dx\n",
    "L = inner(f, v)*dx\n",
    "\n",
    "# Compute solution\n",
    "w = Function(Mini)\n",
    "solve(a == L, w, bcs)\n",
    "\n",
    "# Split the mixed solution using deepcopy\n",
    "# (needed for further computation on coefficient vector)\n",
    "(u, p) = w.split(True)\n",
    "\n",
    "print(\"Norm of velocity coefficient vector: %.15g\" % u.vector().norm(\"l2\"))\n",
    "print(\"Norm of pressure coefficient vector: %.15g\" % p.vector().norm(\"l2\"))\n",
    "\n",
    "# Split the mixed solution using a shallow copy\n",
    "(u, p) = w.split()\n",
    "\n",
    "# Save solution in VTK format\n",
    "ufile_pvd = File(\"velocity.pvd\")\n",
    "ufile_pvd << u\n",
    "pfile_pvd = File(\"pressure.pvd\")\n",
    "pfile_pvd << p\n",
    "\n",
    "# Plot solution\n",
    "plot(u)\n",
    "plot(p)\n",
    "interactive()\n"
   ]
  }
 ],
 "metadata": {
  "kernelspec": {
   "display_name": "Python 2",
   "language": "python",
   "name": "python2"
  },
  "language_info": {
   "codemirror_mode": {
    "name": "ipython",
    "version": 2
   },
   "file_extension": ".py",
   "mimetype": "text/x-python",
   "name": "python",
   "nbconvert_exporter": "python",
   "pygments_lexer": "ipython2",
   "version": "2.7.11"
  }
 },
 "nbformat": 4,
 "nbformat_minor": 0
}
